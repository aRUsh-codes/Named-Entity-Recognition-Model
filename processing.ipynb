{
 "cells": [
  {
   "cell_type": "markdown",
   "metadata": {},
   "source": [
    "# INSTALL DEPENDENCIES"
   ]
  },
  {
   "cell_type": "code",
   "execution_count": null,
   "metadata": {},
   "outputs": [],
   "source": [
    "!pip install spacy datasets matplotlib seaborn\n",
    "!python -m spacy download en_core_web_sm"
   ]
  },
  {
   "cell_type": "markdown",
   "metadata": {},
   "source": [
    "# IMPORTS\n"
   ]
  },
  {
   "cell_type": "code",
   "execution_count": 3,
   "metadata": {},
   "outputs": [],
   "source": [
    "import spacy\n",
    "from spacy.training.example import Example\n",
    "from spacy.training import Corpus"
   ]
  },
  {
   "cell_type": "code",
   "execution_count": 6,
   "metadata": {},
   "outputs": [
    {
     "name": "stderr",
     "output_type": "stream",
     "text": [
      "Downloading data: 100%|██████████| 983k/983k [00:01<00:00, 808kB/s] \n",
      "Generating train split: 100%|██████████| 14041/14041 [00:02<00:00, 6701.15 examples/s]\n",
      "Generating validation split: 100%|██████████| 3250/3250 [00:00<00:00, 6288.16 examples/s]\n",
      "Generating test split: 100%|██████████| 3453/3453 [00:00<00:00, 8299.64 examples/s]\n"
     ]
    }
   ],
   "source": [
    "from datasets import load_dataset\n",
    "\n",
    "# Load CoNLL-2003 dataset\n",
    "dataset = load_dataset(\"conll2003\",trust_remote_code=True)\n",
    "\n",
    "# Train and test split\n",
    "train_data = dataset[\"train\"]\n",
    "test_data = dataset[\"test\"]\n"
   ]
  },
  {
   "cell_type": "code",
   "execution_count": 7,
   "metadata": {},
   "outputs": [
    {
     "name": "stdout",
     "output_type": "stream",
     "text": [
      "{'id': '0', 'tokens': ['EU', 'rejects', 'German', 'call', 'to', 'boycott', 'British', 'lamb', '.'], 'pos_tags': [22, 42, 16, 21, 35, 37, 16, 21, 7], 'chunk_tags': [11, 21, 11, 12, 21, 22, 11, 12, 0], 'ner_tags': [3, 0, 7, 0, 0, 0, 7, 0, 0]}\n"
     ]
    }
   ],
   "source": [
    "print(train_data[0])"
   ]
  },
  {
   "cell_type": "code",
   "execution_count": 11,
   "metadata": {},
   "outputs": [
    {
     "data": {
      "image/png": "[encoded data removed]",
      "text/plain": [
       "<Figure size 1000x500 with 1 Axes>"
      ]
     },
     "metadata": {},
     "output_type": "display_data"
    }
   ],
   "source": [
    "import matplotlib.pyplot as plt\n",
    "import seaborn as sns\n",
    "from collections import Counter\n",
    "\n",
    "# Count entity labels\n",
    "entity_counts = Counter()\n",
    "for example in train_data:\n",
    "    entity_counts.update(example[\"ner_tags\"])\n",
    "\n",
    "# Plot entity distribution\n",
    "plt.figure(figsize=(10, 5))\n",
    "sns.barplot(x=list(entity_counts.keys()), y=list(entity_counts.values()))\n",
    "plt.xlabel(\"Entity Label\")\n",
    "plt.ylabel(\"Count\")\n",
    "plt.title(\"Entity Label Distribution\")\n",
    "plt.show()\n"
   ]
  },
  {
   "cell_type": "code",
   "execution_count": null,
   "metadata": {},
   "outputs": [
    {
     "name": "stdout",
     "output_type": "stream",
     "text": [
      "{'text': 'EU rejects German call to boycott British lamb', 'ner_tags': [3, 0, 7, 0, 0, 0, 7, 0, 0]}\n"
     ]
    }
   ],
   "source": [
    "import re\n",
    "\n",
    "def clean_text(text):\n",
    "    text = re.sub(r\"[^a-zA-Z0-9\\s]\", \"\", text) \n",
    "    text = re.sub(r\"\\s+\", \" \", text).strip()  \n",
    "    return text\n",
    "\n",
    "processed_data = []\n",
    "for example in train_data:\n",
    "    text = \" \".join(example[\"tokens\"]) \n",
    "    cleaned_text = clean_text(text)\n",
    "    processed_data.append({\"text\": cleaned_text, \"ner_tags\": example[\"ner_tags\"]})\n",
    "\n",
    "# Check first entry\n",
    "print(processed_data[0])\n"
   ]
  },
  {
   "cell_type": "code",
   "execution_count": null,
   "metadata": {},
   "outputs": [
    {
     "name": "stdout",
     "output_type": "stream",
     "text": [
      "Tokens: ['EU', 'rejects', 'German', 'call', 'to', 'boycott', 'British', 'lamb']\n",
      "Labels: [3, 0, 7, 0, 0, 0, 7, 0]\n"
     ]
    }
   ],
   "source": [
    "def tokenize_and_label(tokens, ner_tags):\n",
    "    labels = ner_tags[:len(tokens)]  # Ensure alignment\n",
    "    return tokens, labels\n",
    "\n",
    "# Apply tokenization\n",
    "sample_example = processed_data[0]  # Use fixed processed data\n",
    "tokens, labels = tokenize_and_label(sample_example[\"text\"].split(), sample_example[\"ner_tags\"])\n",
    "\n",
    "print(\"Tokens:\", tokens)\n",
    "print(\"Labels:\", labels)"
   ]
  },
  {
   "cell_type": "code",
   "execution_count": 17,
   "metadata": {},
   "outputs": [],
   "source": [
    "#(TEXT, {\"entities\": [(start, end, \"LABEL\")]})"
   ]
  },
  {
   "cell_type": "code",
   "execution_count": 23,
   "metadata": {},
   "outputs": [
    {
     "data": {
      "text/plain": [
       "[{'text': 'EU rejects German call to boycott British lamb',\n",
       "  'ner_tags': [3, 0, 7, 0, 0, 0, 7, 0, 0]},\n",
       " {'text': 'Peter Blackburn', 'ner_tags': [1, 2]}]"
      ]
     },
     "execution_count": 23,
     "metadata": {},
     "output_type": "execute_result"
    }
   ],
   "source": [
    "processed_data[:2]"
   ]
  },
  {
   "cell_type": "markdown",
   "metadata": {},
   "source": [
    "# FORMATTING LABELS\n",
    "Formatting Labels "
   ]
  },
  {
   "cell_type": "code",
   "execution_count": 24,
   "metadata": {},
   "outputs": [],
   "source": [
    "# Define label mapping (CoNLL-2003 uses integer labels)\n",
    "LABELS = {\n",
    "    0: \"O\",        # Outside any entity\n",
    "    1: \"B-PER\",    # Beginning of a Person entity\n",
    "    2: \"I-PER\",    # Inside a Person entity\n",
    "    3: \"B-ORG\",    # Beginning of an Organization entity\n",
    "    4: \"I-ORG\",    # Inside an Organization entity\n",
    "    5: \"B-LOC\",    # Beginning of a Location entity\n",
    "    6: \"I-LOC\"     # Inside a Location entity\n",
    "}\n",
    "\n",
    "def format_data_for_spacy(data):\n",
    "    \"\"\"\n",
    "    Converts the dataset into SpaCy's required training format.\n",
    "    \"\"\"\n",
    "    formatted_data = []\n",
    "    for example in data:\n",
    "        text = example[\"text\"]\n",
    "        tokens = text.split()  # Get words\n",
    "        ner_tags = example[\"ner_tags\"]\n",
    "\n",
    "        entities = []\n",
    "        start = 0  # Track character position\n",
    "        for token, tag in zip(tokens, ner_tags):\n",
    "            if tag in LABELS and LABELS[tag] != \"O\":  # Ignore \"O\" (not an entity)\n",
    "                end = start + len(token)\n",
    "                entities.append((start, end, LABELS[tag][2:]))  # Remove \"B-\" or \"I-\" prefix\n",
    "            start += len(token) + 1  # Move start index (considering spaces)\n",
    "\n",
    "        formatted_data.append((text, {\"entities\": entities}))\n",
    "\n",
    "    return formatted_data\n",
    "\n",
    "# Convert processed data\n",
    "formatted_train_data = format_data_for_spacy(processed_data)"
   ]
  },
  {
   "cell_type": "code",
   "execution_count": 25,
   "metadata": {},
   "outputs": [
    {
     "data": {
      "text/plain": [
       "[('EU rejects German call to boycott British lamb',\n",
       "  {'entities': [(0, 2, 'ORG')]}),\n",
       " ('Peter Blackburn', {'entities': [(0, 5, 'PER'), (6, 15, 'PER')]})]"
      ]
     },
     "execution_count": 25,
     "metadata": {},
     "output_type": "execute_result"
    }
   ],
   "source": [
    "formatted_train_data[:2]"
   ]
  },
  {
   "cell_type": "markdown",
   "metadata": {},
   "source": [
    "# TRAINING AND SAVING"
   ]
  },
  {
   "cell_type": "markdown",
   "metadata": {},
   "source": [
    "Training the model "
   ]
  },
  {
   "cell_type": "code",
   "execution_count": 26,
   "metadata": {},
   "outputs": [
    {
     "name": "stdout",
     "output_type": "stream",
     "text": [
      "Epoch 1, Loss: 26977.345703125\n",
      "Epoch 2, Loss: 20732.255859375\n",
      "Epoch 3, Loss: 18361.359375\n",
      "Epoch 4, Loss: 16961.171875\n",
      "Epoch 5, Loss: 15757.68359375\n",
      "Epoch 6, Loss: 14722.0087890625\n",
      "Epoch 7, Loss: 13876.3779296875\n",
      "Epoch 8, Loss: 13030.2587890625\n",
      "Epoch 9, Loss: 12334.796875\n",
      "Epoch 10, Loss: 11756.0625\n",
      "Model saved to 'trained_ner_model'!\n"
     ]
    }
   ],
   "source": [
    "import spacy\n",
    "from spacy.training.example import Example\n",
    "from spacy.util import minibatch\n",
    "import random\n",
    "\n",
    "# Load pre-trained model or create a blank model\n",
    "nlp = spacy.load(\"en_core_web_sm\")  # Load small English model\n",
    "ner = nlp.get_pipe(\"ner\")  # Get NER pipeline\n",
    "\n",
    "# Add new entity labels (if not already in the model)\n",
    "for _, annotations in formatted_train_data:\n",
    "    for ent in annotations.get(\"entities\"):\n",
    "        ner.add_label(ent[2])  # ent[2] is the entity label\n",
    "\n",
    "# Disable other components to train only NER\n",
    "unaffected_pipes = [pipe for pipe in nlp.pipe_names if pipe != \"ner\"]\n",
    "\n",
    "# Training the model\n",
    "with nlp.disable_pipes(*unaffected_pipes):\n",
    "    optimizer = nlp.resume_training()  # Get optimizer\n",
    "    for epoch in range(10):  # Train for 10 epochs\n",
    "        random.shuffle(formatted_train_data)\n",
    "        losses = {}\n",
    "\n",
    "        # Create batches\n",
    "        batches = minibatch(formatted_train_data, size=8)\n",
    "        for batch in batches:\n",
    "            texts, annotations = zip(*batch)  # Unpack batch\n",
    "            examples = [Example.from_dict(nlp.make_doc(text), annotation) for text, annotation in batch]\n",
    "            nlp.update(examples, drop=0.3, losses=losses)  # Update model\n",
    "\n",
    "        print(f\"Epoch {epoch+1}, Loss: {losses['ner']}\")  # Print loss\n",
    "\n",
    "# Save trained model\n",
    "nlp.to_disk(\"trained_ner_model\")\n",
    "print(\"Model saved to 'trained_ner_model'!\")\n"
   ]
  },
  {
   "cell_type": "markdown",
   "metadata": {},
   "source": [
    "Saving the model as a pickle file"
   ]
  },
  {
   "cell_type": "code",
   "execution_count": 27,
   "metadata": {},
   "outputs": [
    {
     "name": "stdout",
     "output_type": "stream",
     "text": [
      "Model saved as 'trained_ner_model.pkl'!\n"
     ]
    }
   ],
   "source": [
    "import pickle\n",
    "import spacy\n",
    "\n",
    "# Load the trained model\n",
    "nlp_trained = spacy.load(\"trained_ner_model\")\n",
    "\n",
    "# Save the model as a pickle file\n",
    "with open(\"trained_ner_model.pkl\", \"wb\") as f:\n",
    "    pickle.dump(nlp_trained, f)\n",
    "\n",
    "print(\"Model saved as 'trained_ner_model.pkl'!\")\n"
   ]
  },
  {
   "cell_type": "code",
   "execution_count": null,
   "metadata": {},
   "outputs": [],
   "source": [
    "TRAIN_DATA = [\n",
    "    (\"Elon Musk is the CEO of SpaceX\", {\"entities\": [(0, 9, \"PER\"), (22, 28, \"ORG\")]}),\n",
    "    (\"I live in Paris\", {\"entities\": [(10, 15, \"LOC\")]}),\n",
    "    (\"Apple was founded by Steve Jobs\", {\"entities\": [(0, 5, \"ORG\"), (23, 33, \"PER\")]}),\n",
    "    (\"Microsoft acquired LinkedIn in 2016\", {\"entities\": [(0, 9, \"ORG\"), (19, 27, \"ORG\")]}),\n",
    "    (\"Jeff Bezos founded Amazon\", {\"entities\": [(0, 10, \"PER\"), (19, 25, \"ORG\")]}),\n",
    "    (\"Sundar Pichai is the CEO of Google\", {\"entities\": [(0, 13, \"PER\"), (27, 33, \"ORG\")]}),\n",
    "    (\"I visited the Eiffel Tower in France\", {\"entities\": [(16, 28, \"LOC\"), (32, 38, \"LOC\")]}),\n",
    "    (\"The capital of Japan is Tokyo\", {\"entities\": [(16, 21, \"LOC\"), (25, 30, \"LOC\")]}),\n",
    "    (\"Facebook was created by Mark Zuckerberg\", {\"entities\": [(0, 8, \"ORG\"), (25, 39, \"PER\")]}),\n",
    "]"
   ]
  },
  {
   "cell_type": "code",
   "execution_count": 36,
   "metadata": {},
   "outputs": [
    {
     "name": "stdout",
     "output_type": "stream",
     "text": [
      "\n",
      "For text :- Google is a great company\n",
      "Entities are :- [{'text': 'Google', 'label': 'PER'}]\n",
      "\n",
      "---------------------\n",
      "\n",
      "For text :- Elon Musk is the CEO of SpaceX\n",
      "Entities are :- [{'text': 'Elon', 'label': 'PER'}, {'text': 'Musk', 'label': 'PER'}]\n",
      "\n",
      "---------------------\n",
      "\n",
      "For text :- I live in Paris\n",
      "Entities are :- []\n",
      "\n",
      "---------------------\n",
      "\n",
      "For text :- Apple was founded by Steve Jobs\n",
      "Entities are :- [{'text': 'Steve', 'label': 'PER'}, {'text': 'Jobs', 'label': 'PER'}]\n",
      "\n",
      "---------------------\n",
      "\n",
      "For text :- Microsoft acquired LinkedIn in 2016\n",
      "Entities are :- [{'text': 'Microsoft', 'label': 'ORG'}, {'text': 'LinkedIn', 'label': 'ORG'}]\n",
      "\n",
      "---------------------\n",
      "\n",
      "For text :- Jeff Bezos founded Amazon\n",
      "Entities are :- [{'text': 'Jeff', 'label': 'PER'}, {'text': 'Bezos', 'label': 'PER'}, {'text': 'Amazon', 'label': 'PER'}]\n",
      "\n",
      "---------------------\n",
      "\n",
      "For text :- Sundar Pichai is the CEO of Google\n",
      "Entities are :- [{'text': 'Sundar', 'label': 'PER'}, {'text': 'Pichai', 'label': 'PER'}]\n",
      "\n",
      "---------------------\n",
      "\n",
      "For text :- I visited the Eiffel Tower in France\n",
      "Entities are :- []\n",
      "\n",
      "---------------------\n",
      "\n",
      "For text :- The capital of Japan is Tokyo\n",
      "Entities are :- [{'text': 'Japan', 'label': 'LOC'}]\n",
      "\n",
      "---------------------\n",
      "\n",
      "For text :- Facebook was created by Mark Zuckerberg\n",
      "Entities are :- [{'text': 'Mark', 'label': 'PER'}, {'text': 'Zuckerberg', 'label': 'PER'}]\n",
      "\n",
      "---------------------\n"
     ]
    }
   ],
   "source": [
    "n = spacy.load('trained_ner_model')\n",
    "for x in TRAIN_DATA:\n",
    "    doc = n(x[0])\n",
    "    entities = [{\"text\": ent.text, \"label\": ent.label_} for ent in doc.ents]\n",
    "    print(f\"\\nFor text :- {doc}\")\n",
    "    print(f\"Entities are :- {entities}\\n\")\n",
    "    print(\"---------------------\")"
   ]
  }
 ],
 "metadata": {
  "kernelspec": {
   "display_name": "venv",
   "language": "python",
   "name": "python3"
  },
  "language_info": {
   "codemirror_mode": {
    "name": "ipython",
    "version": 3
   },
   "file_extension": ".py",
   "mimetype": "text/x-python",
   "name": "python",
   "nbconvert_exporter": "python",
   "pygments_lexer": "ipython3",
   "version": "3.12.6"
  }
 },
 "nbformat": 4,
 "nbformat_minor": 2
}
